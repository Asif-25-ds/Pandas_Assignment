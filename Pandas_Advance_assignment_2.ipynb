{
 "cells": [
  {
   "cell_type": "code",
   "execution_count": 1,
   "metadata": {},
   "outputs": [],
   "source": [
    "import pandas as pd\n",
    "\n",
    "course_name = [\"Data Science\", \"Machine Learning\", \"Big Data\", \"Data Engineer\"]\n",
    "\n",
    "duration =  [2,3,6,4]\n",
    "\n",
    "df = pd.DataFrame(data = {\"course_name\": course_name, \"duration\" : duration})"
   ]
  },
  {
   "cell_type": "code",
   "execution_count": 3,
   "metadata": {},
   "outputs": [
    {
     "data": {
      "text/html": [
       "<div>\n",
       "<style scoped>\n",
       "    .dataframe tbody tr th:only-of-type {\n",
       "        vertical-align: middle;\n",
       "    }\n",
       "\n",
       "    .dataframe tbody tr th {\n",
       "        vertical-align: top;\n",
       "    }\n",
       "\n",
       "    .dataframe thead th {\n",
       "        text-align: right;\n",
       "    }\n",
       "</style>\n",
       "<table border=\"1\" class=\"dataframe\">\n",
       "  <thead>\n",
       "    <tr style=\"text-align: right;\">\n",
       "      <th></th>\n",
       "      <th>course_name</th>\n",
       "      <th>duration</th>\n",
       "    </tr>\n",
       "  </thead>\n",
       "  <tbody>\n",
       "    <tr>\n",
       "      <th>0</th>\n",
       "      <td>Data Science</td>\n",
       "      <td>2</td>\n",
       "    </tr>\n",
       "    <tr>\n",
       "      <th>1</th>\n",
       "      <td>Machine Learning</td>\n",
       "      <td>3</td>\n",
       "    </tr>\n",
       "    <tr>\n",
       "      <th>2</th>\n",
       "      <td>Big Data</td>\n",
       "      <td>6</td>\n",
       "    </tr>\n",
       "    <tr>\n",
       "      <th>3</th>\n",
       "      <td>Data Engineer</td>\n",
       "      <td>4</td>\n",
       "    </tr>\n",
       "  </tbody>\n",
       "</table>\n",
       "</div>"
      ],
      "text/plain": [
       "        course_name  duration\n",
       "0      Data Science         2\n",
       "1  Machine Learning         3\n",
       "2          Big Data         6\n",
       "3     Data Engineer         4"
      ]
     },
     "execution_count": 3,
     "metadata": {},
     "output_type": "execute_result"
    }
   ],
   "source": [
    "df"
   ]
  },
  {
   "cell_type": "code",
   "execution_count": 6,
   "metadata": {},
   "outputs": [
    {
     "data": {
      "text/plain": [
       "course_name    Machine Learning\n",
       "duration                      3\n",
       "Name: 1, dtype: object"
      ]
     },
     "execution_count": 6,
     "metadata": {},
     "output_type": "execute_result"
    }
   ],
   "source": [
    "#  Write a code to print the data present in the second row of the dataframe, df.\n",
    "df.loc[1,[\"course_name\",\"duration\"]]"
   ]
  },
  {
   "cell_type": "code",
   "execution_count": 12,
   "metadata": {},
   "outputs": [
    {
     "data": {
      "text/plain": [
       "duration    2\n",
       "Name: 0, dtype: object"
      ]
     },
     "execution_count": 12,
     "metadata": {},
     "output_type": "execute_result"
    }
   ],
   "source": [
    "# What is the difference between the functions loc and iloc in pandas.DataFrame\n",
    "# iloc represents the inter location of our data in our data frame whereas loc represents  the index given by ous to the dataframe\n",
    "#ex:-\n",
    "df.iloc[0,[1]]#inter locations of data"
   ]
  },
  {
   "cell_type": "code",
   "execution_count": 13,
   "metadata": {},
   "outputs": [
    {
     "data": {
      "text/plain": [
       "course_name    Big Data\n",
       "Name: 2, dtype: object"
      ]
     },
     "execution_count": 13,
     "metadata": {},
     "output_type": "execute_result"
    }
   ],
   "source": [
    "df.loc[2,[\"course_name\"]]#index given by us"
   ]
  },
  {
   "cell_type": "code",
   "execution_count": 16,
   "metadata": {},
   "outputs": [],
   "source": [
    "#  Reindex the given dataframe using a variable, reindex = [3,0,1,2] and store it in the variable, new_df \n",
    "# then find the output for both new_df.loc[2] and new_df.iloc[2]\n",
    "new_df=df.reindex([3,0,1,2])"
   ]
  },
  {
   "cell_type": "code",
   "execution_count": 21,
   "metadata": {},
   "outputs": [
    {
     "data": {
      "text/html": [
       "<div>\n",
       "<style scoped>\n",
       "    .dataframe tbody tr th:only-of-type {\n",
       "        vertical-align: middle;\n",
       "    }\n",
       "\n",
       "    .dataframe tbody tr th {\n",
       "        vertical-align: top;\n",
       "    }\n",
       "\n",
       "    .dataframe thead th {\n",
       "        text-align: right;\n",
       "    }\n",
       "</style>\n",
       "<table border=\"1\" class=\"dataframe\">\n",
       "  <thead>\n",
       "    <tr style=\"text-align: right;\">\n",
       "      <th></th>\n",
       "      <th>course_name</th>\n",
       "      <th>duration</th>\n",
       "    </tr>\n",
       "  </thead>\n",
       "  <tbody>\n",
       "    <tr>\n",
       "      <th>3</th>\n",
       "      <td>Data Engineer</td>\n",
       "      <td>4</td>\n",
       "    </tr>\n",
       "    <tr>\n",
       "      <th>0</th>\n",
       "      <td>Data Science</td>\n",
       "      <td>2</td>\n",
       "    </tr>\n",
       "    <tr>\n",
       "      <th>1</th>\n",
       "      <td>Machine Learning</td>\n",
       "      <td>3</td>\n",
       "    </tr>\n",
       "    <tr>\n",
       "      <th>2</th>\n",
       "      <td>Big Data</td>\n",
       "      <td>6</td>\n",
       "    </tr>\n",
       "  </tbody>\n",
       "</table>\n",
       "</div>"
      ],
      "text/plain": [
       "        course_name  duration\n",
       "3     Data Engineer         4\n",
       "0      Data Science         2\n",
       "1  Machine Learning         3\n",
       "2          Big Data         6"
      ]
     },
     "execution_count": 21,
     "metadata": {},
     "output_type": "execute_result"
    }
   ],
   "source": [
    "new_df"
   ]
  },
  {
   "cell_type": "code",
   "execution_count": 18,
   "metadata": {},
   "outputs": [
    {
     "data": {
      "text/plain": [
       "course_name    Big Data\n",
       "duration              6\n",
       "Name: 2, dtype: object"
      ]
     },
     "execution_count": 18,
     "metadata": {},
     "output_type": "execute_result"
    }
   ],
   "source": [
    "new_df.loc[2]"
   ]
  },
  {
   "cell_type": "code",
   "execution_count": 19,
   "metadata": {},
   "outputs": [
    {
     "data": {
      "text/plain": [
       "course_name    Machine Learning\n",
       "duration                      3\n",
       "Name: 1, dtype: object"
      ]
     },
     "execution_count": 19,
     "metadata": {},
     "output_type": "execute_result"
    }
   ],
   "source": [
    "new_df.iloc[2]"
   ]
  },
  {
   "cell_type": "code",
   "execution_count": 22,
   "metadata": {},
   "outputs": [],
   "source": [
    "#The difference is that loc refers to the index which is given by us but iloc always refers to the dafult index"
   ]
  },
  {
   "cell_type": "code",
   "execution_count": 23,
   "metadata": {},
   "outputs": [],
   "source": [
    "import pandas as pd\n",
    "import numpy as np\n",
    "\n",
    "columns = ['column_1', 'column_2', 'column_3', 'column_4', 'column_5', 'column_6']\n",
    "indices = [1,2,3,4,5,6]\n",
    "#Creating a dataframe:\n",
    "df1 = pd.DataFrame(np.random.rand(6,6), columns = columns, index = indices)\n"
   ]
  },
  {
   "cell_type": "code",
   "execution_count": 25,
   "metadata": {},
   "outputs": [
    {
     "data": {
      "text/html": [
       "<div>\n",
       "<style scoped>\n",
       "    .dataframe tbody tr th:only-of-type {\n",
       "        vertical-align: middle;\n",
       "    }\n",
       "\n",
       "    .dataframe tbody tr th {\n",
       "        vertical-align: top;\n",
       "    }\n",
       "\n",
       "    .dataframe thead th {\n",
       "        text-align: right;\n",
       "    }\n",
       "</style>\n",
       "<table border=\"1\" class=\"dataframe\">\n",
       "  <thead>\n",
       "    <tr style=\"text-align: right;\">\n",
       "      <th></th>\n",
       "      <th>column_1</th>\n",
       "      <th>column_2</th>\n",
       "      <th>column_3</th>\n",
       "      <th>column_4</th>\n",
       "      <th>column_5</th>\n",
       "      <th>column_6</th>\n",
       "    </tr>\n",
       "  </thead>\n",
       "  <tbody>\n",
       "    <tr>\n",
       "      <th>1</th>\n",
       "      <td>0.685421</td>\n",
       "      <td>0.308958</td>\n",
       "      <td>0.673107</td>\n",
       "      <td>0.130818</td>\n",
       "      <td>0.279601</td>\n",
       "      <td>0.976087</td>\n",
       "    </tr>\n",
       "    <tr>\n",
       "      <th>2</th>\n",
       "      <td>0.426821</td>\n",
       "      <td>0.471790</td>\n",
       "      <td>0.237051</td>\n",
       "      <td>0.503063</td>\n",
       "      <td>0.905533</td>\n",
       "      <td>0.308142</td>\n",
       "    </tr>\n",
       "    <tr>\n",
       "      <th>3</th>\n",
       "      <td>0.817901</td>\n",
       "      <td>0.943819</td>\n",
       "      <td>0.645665</td>\n",
       "      <td>0.718729</td>\n",
       "      <td>0.462587</td>\n",
       "      <td>0.055342</td>\n",
       "    </tr>\n",
       "    <tr>\n",
       "      <th>4</th>\n",
       "      <td>0.210143</td>\n",
       "      <td>0.057214</td>\n",
       "      <td>0.858189</td>\n",
       "      <td>0.443565</td>\n",
       "      <td>0.317384</td>\n",
       "      <td>0.465805</td>\n",
       "    </tr>\n",
       "    <tr>\n",
       "      <th>5</th>\n",
       "      <td>0.263501</td>\n",
       "      <td>0.699076</td>\n",
       "      <td>0.363525</td>\n",
       "      <td>0.455564</td>\n",
       "      <td>0.172460</td>\n",
       "      <td>0.320973</td>\n",
       "    </tr>\n",
       "    <tr>\n",
       "      <th>6</th>\n",
       "      <td>0.914720</td>\n",
       "      <td>0.022822</td>\n",
       "      <td>0.203367</td>\n",
       "      <td>0.750579</td>\n",
       "      <td>0.932071</td>\n",
       "      <td>0.554845</td>\n",
       "    </tr>\n",
       "  </tbody>\n",
       "</table>\n",
       "</div>"
      ],
      "text/plain": [
       "   column_1  column_2  column_3  column_4  column_5  column_6\n",
       "1  0.685421  0.308958  0.673107  0.130818  0.279601  0.976087\n",
       "2  0.426821  0.471790  0.237051  0.503063  0.905533  0.308142\n",
       "3  0.817901  0.943819  0.645665  0.718729  0.462587  0.055342\n",
       "4  0.210143  0.057214  0.858189  0.443565  0.317384  0.465805\n",
       "5  0.263501  0.699076  0.363525  0.455564  0.172460  0.320973\n",
       "6  0.914720  0.022822  0.203367  0.750579  0.932071  0.554845"
      ]
     },
     "execution_count": 25,
     "metadata": {},
     "output_type": "execute_result"
    }
   ],
   "source": [
    "df1"
   ]
  },
  {
   "cell_type": "code",
   "execution_count": 41,
   "metadata": {},
   "outputs": [
    {
     "data": {
      "text/plain": [
       "column_1    0.553085\n",
       "column_2    0.417280\n",
       "column_3    0.496817\n",
       "column_4    0.500386\n",
       "column_5    0.511606\n",
       "column_6    0.446866\n",
       "dtype: float64"
      ]
     },
     "execution_count": 41,
     "metadata": {},
     "output_type": "execute_result"
    }
   ],
   "source": [
    "#mean of each and every column present in the dataframe.\n",
    "df1.mean()"
   ]
  },
  {
   "cell_type": "code",
   "execution_count": 42,
   "metadata": {},
   "outputs": [
    {
     "data": {
      "text/plain": [
       "0.3623815169385103"
      ]
     },
     "execution_count": 42,
     "metadata": {},
     "output_type": "execute_result"
    }
   ],
   "source": [
    "#standard deviation of column, ‘column_2’\n",
    "df1[\"column_2\"].std()"
   ]
  },
  {
   "cell_type": "code",
   "execution_count": 48,
   "metadata": {},
   "outputs": [
    {
     "name": "stderr",
     "output_type": "stream",
     "text": [
      "C:\\Users\\hp\\AppData\\Local\\Temp\\ipykernel_6796\\3370633733.py:4: FutureWarning: Setting an item of incompatible dtype is deprecated and will raise an error in a future version of pandas. Value 'HAHA' has dtype incompatible with float64, please explicitly cast to a compatible dtype first.\n",
      "  df1.loc[2,[\"column_2\"]]=\"HAHA\"\n"
     ]
    }
   ],
   "source": [
    "# Replace the data present in the second row of column, ‘column_2’ by a string variable then find the \n",
    "# mean of column, column_2.\n",
    "# If you are getting errors in executing it then explain why.\n",
    "df1.loc[2,[\"column_2\"]]=\"HAHA\""
   ]
  },
  {
   "cell_type": "code",
   "execution_count": null,
   "metadata": {},
   "outputs": [],
   "source": [
    "df1[\"column_2\"].mean()#The error is beacause of we are adding int data type element to string type which is senseless."
   ]
  },
  {
   "cell_type": "code",
   "execution_count": 53,
   "metadata": {},
   "outputs": [
    {
     "data": {
      "text/plain": [
       "1         NaN\n",
       "2    1.112243\n",
       "3    1.244722\n",
       "4    1.028044\n",
       "5    0.473644\n",
       "6    1.178221\n",
       "Name: column_1, dtype: float64"
      ]
     },
     "execution_count": 53,
     "metadata": {},
     "output_type": "execute_result"
    }
   ],
   "source": [
    "#  What do you understand about the windows function in pandas and list the types of windows functions\n",
    "#window functions are used for performing calculations on a sliding window of data within a DataFrame or a Series.\n",
    "# rolling(),expanding()\n",
    "#Now they can be used as rolling().mean() or expanding.mean() etc.\n",
    "df1[\"column_1\"].rolling(window=2).sum()"
   ]
  },
  {
   "cell_type": "code",
   "execution_count": 54,
   "metadata": {},
   "outputs": [
    {
     "data": {
      "text/plain": [
       "1    0.685421\n",
       "2    1.112243\n",
       "3    1.930144\n",
       "4    2.140287\n",
       "5    2.403788\n",
       "6    3.318508\n",
       "Name: column_1, dtype: float64"
      ]
     },
     "execution_count": 54,
     "metadata": {},
     "output_type": "execute_result"
    }
   ],
   "source": [
    "df1[\"column_1\"].expanding().sum()"
   ]
  },
  {
   "cell_type": "code",
   "execution_count": 60,
   "metadata": {},
   "outputs": [
    {
     "name": "stdout",
     "output_type": "stream",
     "text": [
      "Month= 3 Year= 2024\n"
     ]
    }
   ],
   "source": [
    "# Write a code to print only the current month and year at the time of answering this question\n",
    "a=pd.Timestamp.now()\n",
    "print(\"Month=\",a.month,\"Year=\",a.year)"
   ]
  },
  {
   "cell_type": "code",
   "execution_count": 61,
   "metadata": {},
   "outputs": [
    {
     "name": "stdout",
     "output_type": "stream",
     "text": [
      "The difference between 2024-04-02 and 2024-04-05 is 3 days, 0 hours, and 0 minutes.\n"
     ]
    }
   ],
   "source": [
    "# Write a Python program that takes in two dates as input (in the format YYYY-MM-DD) and \n",
    "# calculates the difference between them in days, hours, and minutes using Pandas time delta. The \n",
    "# program should prompt the user to enter the dates and display the result\n",
    "start_date = input(\"Enter the start date (YYYY-MM-DD): \")\n",
    "end_date = input(\"Enter the end date (YYYY-MM-DD): \")\n",
    "start_timestamp = pd.Timestamp(start_date)\n",
    "end_timestamp = pd.Timestamp(end_date)\n",
    "time_difference = end_timestamp - start_timestamp\n",
    "days = time_difference.days\n",
    "hours = (time_difference.seconds)//3600\n",
    "minutes=(time_difference.seconds % 3600)//60\n",
    "print(f\"The difference between {start_date} and {end_date} is {days} days, {hours} hours, and {minutes} minutes.\")\n"
   ]
  },
  {
   "cell_type": "code",
   "execution_count": 2,
   "metadata": {},
   "outputs": [],
   "source": [
    "#  Write a Python program that reads a CSV file containing categorical data and converts a specified \n",
    "# column to a categorical data type. The program should prompt the user to enter the file path, column \n",
    "# name, and category order, and then display the sorted data.\n",
    "cf=pd.read_csv(\"Employeedata.csv\")"
   ]
  },
  {
   "cell_type": "code",
   "execution_count": 3,
   "metadata": {},
   "outputs": [
    {
     "data": {
      "text/html": [
       "<div>\n",
       "<style scoped>\n",
       "    .dataframe tbody tr th:only-of-type {\n",
       "        vertical-align: middle;\n",
       "    }\n",
       "\n",
       "    .dataframe tbody tr th {\n",
       "        vertical-align: top;\n",
       "    }\n",
       "\n",
       "    .dataframe thead th {\n",
       "        text-align: right;\n",
       "    }\n",
       "</style>\n",
       "<table border=\"1\" class=\"dataframe\">\n",
       "  <thead>\n",
       "    <tr style=\"text-align: right;\">\n",
       "      <th></th>\n",
       "      <th>Unnamed: 0</th>\n",
       "      <th>id</th>\n",
       "      <th>name</th>\n",
       "      <th>salary</th>\n",
       "      <th>department</th>\n",
       "    </tr>\n",
       "  </thead>\n",
       "  <tbody>\n",
       "    <tr>\n",
       "      <th>0</th>\n",
       "      <td>1</td>\n",
       "      <td>1002.0</td>\n",
       "      <td>Jane Smith</td>\n",
       "      <td>75000.0</td>\n",
       "      <td>Marketing</td>\n",
       "    </tr>\n",
       "    <tr>\n",
       "      <th>1</th>\n",
       "      <td>2</td>\n",
       "      <td>1003.0</td>\n",
       "      <td>Alice Johnson</td>\n",
       "      <td>80000.0</td>\n",
       "      <td>Engineering</td>\n",
       "    </tr>\n",
       "    <tr>\n",
       "      <th>2</th>\n",
       "      <td>3</td>\n",
       "      <td>1004.0</td>\n",
       "      <td>Bob Williams</td>\n",
       "      <td>70000.0</td>\n",
       "      <td>Finance</td>\n",
       "    </tr>\n",
       "    <tr>\n",
       "      <th>3</th>\n",
       "      <td>4</td>\n",
       "      <td>1005.0</td>\n",
       "      <td>Ella Brown</td>\n",
       "      <td>65000.0</td>\n",
       "      <td>Marketing</td>\n",
       "    </tr>\n",
       "    <tr>\n",
       "      <th>4</th>\n",
       "      <td>5</td>\n",
       "      <td>1006.0</td>\n",
       "      <td>James Lee</td>\n",
       "      <td>72000.0</td>\n",
       "      <td>Engineering</td>\n",
       "    </tr>\n",
       "  </tbody>\n",
       "</table>\n",
       "</div>"
      ],
      "text/plain": [
       "   Unnamed: 0      id           name   salary   department\n",
       "0           1  1002.0     Jane Smith  75000.0    Marketing\n",
       "1           2  1003.0  Alice Johnson  80000.0  Engineering\n",
       "2           3  1004.0   Bob Williams  70000.0      Finance\n",
       "3           4  1005.0     Ella Brown  65000.0    Marketing\n",
       "4           5  1006.0      James Lee  72000.0  Engineering"
      ]
     },
     "execution_count": 3,
     "metadata": {},
     "output_type": "execute_result"
    }
   ],
   "source": [
    "cf.head()"
   ]
  },
  {
   "cell_type": "code",
   "execution_count": 19,
   "metadata": {},
   "outputs": [],
   "source": [
    "def read_file():\n",
    "    file_name=input(\"Enter csv file name to read:-\")\n",
    "    spec_column=input(\"Enter column name to make it categorical:-\")\n",
    "    order=input(\"Enter the order in which you need your data frame:-\").split(\",\")\n",
    "    df=pd.read_csv(file_name)\n",
    "    cat=pd.Categorical(df[spec_column])\n",
    "    print(f\"Your column {spec_column} have been made categorical  and it's data:-\",cat)\n",
    "    return df[order]"
   ]
  },
  {
   "cell_type": "code",
   "execution_count": 20,
   "metadata": {},
   "outputs": [
    {
     "name": "stdout",
     "output_type": "stream",
     "text": [
      "Your column salary have been made categorical  and it's data:- [75000.0, 80000.0, 70000.0, 65000.0, 72000.0, ..., 78000.0, 74000.0, 73000.0, 75000.0, NaN]\n",
      "Length: 50\n",
      "Categories (18, float64): [65000.0, 67000.0, 68000.0, 69000.0, ..., 80000.0, 81000.0, 82000.0, 85000.0]\n"
     ]
    },
    {
     "data": {
      "text/html": [
       "<div>\n",
       "<style scoped>\n",
       "    .dataframe tbody tr th:only-of-type {\n",
       "        vertical-align: middle;\n",
       "    }\n",
       "\n",
       "    .dataframe tbody tr th {\n",
       "        vertical-align: top;\n",
       "    }\n",
       "\n",
       "    .dataframe thead th {\n",
       "        text-align: right;\n",
       "    }\n",
       "</style>\n",
       "<table border=\"1\" class=\"dataframe\">\n",
       "  <thead>\n",
       "    <tr style=\"text-align: right;\">\n",
       "      <th></th>\n",
       "      <th>id</th>\n",
       "      <th>department</th>\n",
       "      <th>salary</th>\n",
       "      <th>name</th>\n",
       "    </tr>\n",
       "  </thead>\n",
       "  <tbody>\n",
       "    <tr>\n",
       "      <th>0</th>\n",
       "      <td>1002.0</td>\n",
       "      <td>Marketing</td>\n",
       "      <td>75000.0</td>\n",
       "      <td>Jane Smith</td>\n",
       "    </tr>\n",
       "    <tr>\n",
       "      <th>1</th>\n",
       "      <td>1003.0</td>\n",
       "      <td>Engineering</td>\n",
       "      <td>80000.0</td>\n",
       "      <td>Alice Johnson</td>\n",
       "    </tr>\n",
       "    <tr>\n",
       "      <th>2</th>\n",
       "      <td>1004.0</td>\n",
       "      <td>Finance</td>\n",
       "      <td>70000.0</td>\n",
       "      <td>Bob Williams</td>\n",
       "    </tr>\n",
       "    <tr>\n",
       "      <th>3</th>\n",
       "      <td>1005.0</td>\n",
       "      <td>Marketing</td>\n",
       "      <td>65000.0</td>\n",
       "      <td>Ella Brown</td>\n",
       "    </tr>\n",
       "    <tr>\n",
       "      <th>4</th>\n",
       "      <td>1006.0</td>\n",
       "      <td>Engineering</td>\n",
       "      <td>72000.0</td>\n",
       "      <td>James Lee</td>\n",
       "    </tr>\n",
       "    <tr>\n",
       "      <th>5</th>\n",
       "      <td>1007.0</td>\n",
       "      <td>Finance</td>\n",
       "      <td>68000.0</td>\n",
       "      <td>Emma Garcia</td>\n",
       "    </tr>\n",
       "    <tr>\n",
       "      <th>6</th>\n",
       "      <td>1008.0</td>\n",
       "      <td>Engineering</td>\n",
       "      <td>85000.0</td>\n",
       "      <td>Michael Davis</td>\n",
       "    </tr>\n",
       "    <tr>\n",
       "      <th>7</th>\n",
       "      <td>1009.0</td>\n",
       "      <td>Marketing</td>\n",
       "      <td>78000.0</td>\n",
       "      <td>Sophia Martinez</td>\n",
       "    </tr>\n",
       "    <tr>\n",
       "      <th>8</th>\n",
       "      <td>1010.0</td>\n",
       "      <td>Finance</td>\n",
       "      <td>73000.0</td>\n",
       "      <td>William Rodriguez</td>\n",
       "    </tr>\n",
       "    <tr>\n",
       "      <th>9</th>\n",
       "      <td>1011.0</td>\n",
       "      <td>Engineering</td>\n",
       "      <td>67000.0</td>\n",
       "      <td>Olivia Taylor</td>\n",
       "    </tr>\n",
       "    <tr>\n",
       "      <th>10</th>\n",
       "      <td>1012.0</td>\n",
       "      <td>Marketing</td>\n",
       "      <td>82000.0</td>\n",
       "      <td>Daniel Anderson</td>\n",
       "    </tr>\n",
       "    <tr>\n",
       "      <th>11</th>\n",
       "      <td>1013.0</td>\n",
       "      <td>Finance</td>\n",
       "      <td>69000.0</td>\n",
       "      <td>Alexis Thomas</td>\n",
       "    </tr>\n",
       "    <tr>\n",
       "      <th>12</th>\n",
       "      <td>1014.0</td>\n",
       "      <td>Engineering</td>\n",
       "      <td>71000.0</td>\n",
       "      <td>Ava Hernandez</td>\n",
       "    </tr>\n",
       "    <tr>\n",
       "      <th>13</th>\n",
       "      <td>1015.0</td>\n",
       "      <td>Marketing</td>\n",
       "      <td>77000.0</td>\n",
       "      <td>Noah Wilson</td>\n",
       "    </tr>\n",
       "    <tr>\n",
       "      <th>14</th>\n",
       "      <td>1016.0</td>\n",
       "      <td>Engineering</td>\n",
       "      <td>76000.0</td>\n",
       "      <td>Sophia Harris</td>\n",
       "    </tr>\n",
       "    <tr>\n",
       "      <th>15</th>\n",
       "      <td>1017.0</td>\n",
       "      <td>Marketing</td>\n",
       "      <td>73000.0</td>\n",
       "      <td>Benjamin Baker</td>\n",
       "    </tr>\n",
       "    <tr>\n",
       "      <th>16</th>\n",
       "      <td>1018.0</td>\n",
       "      <td>Finance</td>\n",
       "      <td>81000.0</td>\n",
       "      <td>Amelia Young</td>\n",
       "    </tr>\n",
       "    <tr>\n",
       "      <th>17</th>\n",
       "      <td>1019.0</td>\n",
       "      <td>Engineering</td>\n",
       "      <td>79000.0</td>\n",
       "      <td>Jacob Hill</td>\n",
       "    </tr>\n",
       "    <tr>\n",
       "      <th>18</th>\n",
       "      <td>1020.0</td>\n",
       "      <td>Marketing</td>\n",
       "      <td>78000.0</td>\n",
       "      <td>Mia Russell</td>\n",
       "    </tr>\n",
       "    <tr>\n",
       "      <th>19</th>\n",
       "      <td>1021.0</td>\n",
       "      <td>Finance</td>\n",
       "      <td>74000.0</td>\n",
       "      <td>Ethan Cooper</td>\n",
       "    </tr>\n",
       "    <tr>\n",
       "      <th>20</th>\n",
       "      <td>1022.0</td>\n",
       "      <td>Engineering</td>\n",
       "      <td>73000.0</td>\n",
       "      <td>Avery Hughes</td>\n",
       "    </tr>\n",
       "    <tr>\n",
       "      <th>21</th>\n",
       "      <td>1023.0</td>\n",
       "      <td>Marketing</td>\n",
       "      <td>72000.0</td>\n",
       "      <td>Liam Long</td>\n",
       "    </tr>\n",
       "    <tr>\n",
       "      <th>22</th>\n",
       "      <td>1024.0</td>\n",
       "      <td>Engineering</td>\n",
       "      <td>77000.0</td>\n",
       "      <td>Madison Jenkins</td>\n",
       "    </tr>\n",
       "    <tr>\n",
       "      <th>23</th>\n",
       "      <td>1025.0</td>\n",
       "      <td>Marketing</td>\n",
       "      <td>75000.0</td>\n",
       "      <td>Samuel Rivera</td>\n",
       "    </tr>\n",
       "    <tr>\n",
       "      <th>24</th>\n",
       "      <td>1026.0</td>\n",
       "      <td>Finance</td>\n",
       "      <td>71000.0</td>\n",
       "      <td>Evelyn Scott</td>\n",
       "    </tr>\n",
       "    <tr>\n",
       "      <th>25</th>\n",
       "      <td>1027.0</td>\n",
       "      <td>Engineering</td>\n",
       "      <td>80000.0</td>\n",
       "      <td>Sebastian King</td>\n",
       "    </tr>\n",
       "    <tr>\n",
       "      <th>26</th>\n",
       "      <td>1028.0</td>\n",
       "      <td>Marketing</td>\n",
       "      <td>79000.0</td>\n",
       "      <td>Harper Brooks</td>\n",
       "    </tr>\n",
       "    <tr>\n",
       "      <th>27</th>\n",
       "      <td>1029.0</td>\n",
       "      <td>Finance</td>\n",
       "      <td>75000.0</td>\n",
       "      <td>David Price</td>\n",
       "    </tr>\n",
       "    <tr>\n",
       "      <th>28</th>\n",
       "      <td>1030.0</td>\n",
       "      <td>Engineering</td>\n",
       "      <td>72000.0</td>\n",
       "      <td>Abigail Ward</td>\n",
       "    </tr>\n",
       "    <tr>\n",
       "      <th>29</th>\n",
       "      <td>1031.0</td>\n",
       "      <td>Marketing</td>\n",
       "      <td>78000.0</td>\n",
       "      <td>Henry Reed</td>\n",
       "    </tr>\n",
       "    <tr>\n",
       "      <th>30</th>\n",
       "      <td>1032.0</td>\n",
       "      <td>Finance</td>\n",
       "      <td>77000.0</td>\n",
       "      <td>Charlotte Cook</td>\n",
       "    </tr>\n",
       "    <tr>\n",
       "      <th>31</th>\n",
       "      <td>1033.0</td>\n",
       "      <td>Engineering</td>\n",
       "      <td>81000.0</td>\n",
       "      <td>Jackson Bell</td>\n",
       "    </tr>\n",
       "    <tr>\n",
       "      <th>32</th>\n",
       "      <td>1034.0</td>\n",
       "      <td>Marketing</td>\n",
       "      <td>79000.0</td>\n",
       "      <td>Scarlett Ward</td>\n",
       "    </tr>\n",
       "    <tr>\n",
       "      <th>33</th>\n",
       "      <td>1035.0</td>\n",
       "      <td>Finance</td>\n",
       "      <td>76000.0</td>\n",
       "      <td>Landon Powell</td>\n",
       "    </tr>\n",
       "    <tr>\n",
       "      <th>34</th>\n",
       "      <td>1036.0</td>\n",
       "      <td>Engineering</td>\n",
       "      <td>75000.0</td>\n",
       "      <td>Grace Evans</td>\n",
       "    </tr>\n",
       "    <tr>\n",
       "      <th>35</th>\n",
       "      <td>1037.0</td>\n",
       "      <td>Marketing</td>\n",
       "      <td>78000.0</td>\n",
       "      <td>Lucas Sanders</td>\n",
       "    </tr>\n",
       "    <tr>\n",
       "      <th>36</th>\n",
       "      <td>1038.0</td>\n",
       "      <td>Finance</td>\n",
       "      <td>76000.0</td>\n",
       "      <td>Aubrey Morris</td>\n",
       "    </tr>\n",
       "    <tr>\n",
       "      <th>37</th>\n",
       "      <td>1039.0</td>\n",
       "      <td>Engineering</td>\n",
       "      <td>73000.0</td>\n",
       "      <td>Logan Peterson</td>\n",
       "    </tr>\n",
       "    <tr>\n",
       "      <th>38</th>\n",
       "      <td>1040.0</td>\n",
       "      <td>Marketing</td>\n",
       "      <td>79000.0</td>\n",
       "      <td>Chloe Cox</td>\n",
       "    </tr>\n",
       "    <tr>\n",
       "      <th>39</th>\n",
       "      <td>1041.0</td>\n",
       "      <td>Finance</td>\n",
       "      <td>74000.0</td>\n",
       "      <td>Ryan Stewart</td>\n",
       "    </tr>\n",
       "    <tr>\n",
       "      <th>40</th>\n",
       "      <td>1042.0</td>\n",
       "      <td>Engineering</td>\n",
       "      <td>73000.0</td>\n",
       "      <td>Penelope Foster</td>\n",
       "    </tr>\n",
       "    <tr>\n",
       "      <th>41</th>\n",
       "      <td>1043.0</td>\n",
       "      <td>Marketing</td>\n",
       "      <td>75000.0</td>\n",
       "      <td>Nathan Bryant</td>\n",
       "    </tr>\n",
       "    <tr>\n",
       "      <th>42</th>\n",
       "      <td>1044.0</td>\n",
       "      <td>Finance</td>\n",
       "      <td>71000.0</td>\n",
       "      <td>Zoe Murphy</td>\n",
       "    </tr>\n",
       "    <tr>\n",
       "      <th>43</th>\n",
       "      <td>1045.0</td>\n",
       "      <td>Engineering</td>\n",
       "      <td>80000.0</td>\n",
       "      <td>Carter Bailey</td>\n",
       "    </tr>\n",
       "    <tr>\n",
       "      <th>44</th>\n",
       "      <td>1046.0</td>\n",
       "      <td>Marketing</td>\n",
       "      <td>82000.0</td>\n",
       "      <td>Hannah Nelson</td>\n",
       "    </tr>\n",
       "    <tr>\n",
       "      <th>45</th>\n",
       "      <td>1047.0</td>\n",
       "      <td>Finance</td>\n",
       "      <td>78000.0</td>\n",
       "      <td>Isaac Washington</td>\n",
       "    </tr>\n",
       "    <tr>\n",
       "      <th>46</th>\n",
       "      <td>1048.0</td>\n",
       "      <td>Engineering</td>\n",
       "      <td>74000.0</td>\n",
       "      <td>NaN</td>\n",
       "    </tr>\n",
       "    <tr>\n",
       "      <th>47</th>\n",
       "      <td>1049.0</td>\n",
       "      <td>Marketing</td>\n",
       "      <td>73000.0</td>\n",
       "      <td>NaN</td>\n",
       "    </tr>\n",
       "    <tr>\n",
       "      <th>48</th>\n",
       "      <td>1050.0</td>\n",
       "      <td>Engineering</td>\n",
       "      <td>75000.0</td>\n",
       "      <td>NaN</td>\n",
       "    </tr>\n",
       "    <tr>\n",
       "      <th>49</th>\n",
       "      <td>NaN</td>\n",
       "      <td>NaN</td>\n",
       "      <td>NaN</td>\n",
       "      <td>NaN</td>\n",
       "    </tr>\n",
       "  </tbody>\n",
       "</table>\n",
       "</div>"
      ],
      "text/plain": [
       "        id   department   salary               name\n",
       "0   1002.0    Marketing  75000.0         Jane Smith\n",
       "1   1003.0  Engineering  80000.0      Alice Johnson\n",
       "2   1004.0      Finance  70000.0       Bob Williams\n",
       "3   1005.0    Marketing  65000.0         Ella Brown\n",
       "4   1006.0  Engineering  72000.0          James Lee\n",
       "5   1007.0      Finance  68000.0        Emma Garcia\n",
       "6   1008.0  Engineering  85000.0      Michael Davis\n",
       "7   1009.0    Marketing  78000.0    Sophia Martinez\n",
       "8   1010.0      Finance  73000.0  William Rodriguez\n",
       "9   1011.0  Engineering  67000.0      Olivia Taylor\n",
       "10  1012.0    Marketing  82000.0    Daniel Anderson\n",
       "11  1013.0      Finance  69000.0      Alexis Thomas\n",
       "12  1014.0  Engineering  71000.0      Ava Hernandez\n",
       "13  1015.0    Marketing  77000.0        Noah Wilson\n",
       "14  1016.0  Engineering  76000.0      Sophia Harris\n",
       "15  1017.0    Marketing  73000.0     Benjamin Baker\n",
       "16  1018.0      Finance  81000.0       Amelia Young\n",
       "17  1019.0  Engineering  79000.0         Jacob Hill\n",
       "18  1020.0    Marketing  78000.0        Mia Russell\n",
       "19  1021.0      Finance  74000.0       Ethan Cooper\n",
       "20  1022.0  Engineering  73000.0       Avery Hughes\n",
       "21  1023.0    Marketing  72000.0          Liam Long\n",
       "22  1024.0  Engineering  77000.0    Madison Jenkins\n",
       "23  1025.0    Marketing  75000.0      Samuel Rivera\n",
       "24  1026.0      Finance  71000.0       Evelyn Scott\n",
       "25  1027.0  Engineering  80000.0     Sebastian King\n",
       "26  1028.0    Marketing  79000.0      Harper Brooks\n",
       "27  1029.0      Finance  75000.0        David Price\n",
       "28  1030.0  Engineering  72000.0       Abigail Ward\n",
       "29  1031.0    Marketing  78000.0         Henry Reed\n",
       "30  1032.0      Finance  77000.0     Charlotte Cook\n",
       "31  1033.0  Engineering  81000.0       Jackson Bell\n",
       "32  1034.0    Marketing  79000.0      Scarlett Ward\n",
       "33  1035.0      Finance  76000.0      Landon Powell\n",
       "34  1036.0  Engineering  75000.0        Grace Evans\n",
       "35  1037.0    Marketing  78000.0      Lucas Sanders\n",
       "36  1038.0      Finance  76000.0      Aubrey Morris\n",
       "37  1039.0  Engineering  73000.0     Logan Peterson\n",
       "38  1040.0    Marketing  79000.0          Chloe Cox\n",
       "39  1041.0      Finance  74000.0       Ryan Stewart\n",
       "40  1042.0  Engineering  73000.0    Penelope Foster\n",
       "41  1043.0    Marketing  75000.0      Nathan Bryant\n",
       "42  1044.0      Finance  71000.0         Zoe Murphy\n",
       "43  1045.0  Engineering  80000.0      Carter Bailey\n",
       "44  1046.0    Marketing  82000.0      Hannah Nelson\n",
       "45  1047.0      Finance  78000.0   Isaac Washington\n",
       "46  1048.0  Engineering  74000.0                NaN\n",
       "47  1049.0    Marketing  73000.0                NaN\n",
       "48  1050.0  Engineering  75000.0                NaN\n",
       "49     NaN          NaN      NaN                NaN"
      ]
     },
     "execution_count": 20,
     "metadata": {},
     "output_type": "execute_result"
    }
   ],
   "source": [
    "read_file()"
   ]
  },
  {
   "cell_type": "code",
   "execution_count": 50,
   "metadata": {},
   "outputs": [
    {
     "data": {
      "text/plain": [
       "<Axes: xlabel='Product'>"
      ]
     },
     "execution_count": 50,
     "metadata": {},
     "output_type": "execute_result"
    },
    {
     "data": {
      "image/png": "[encoded data removed]",
      "text/plain": [
       "<Figure size 640x480 with 1 Axes>"
      ]
     },
     "metadata": {},
     "output_type": "display_data"
    }
   ],
   "source": [
    "# Write a Python program that reads a CSV file containing sales data for different products and \n",
    "# visualizes the data using a stacked bar chart to show the sales of each product category over time. The \n",
    "# program should prompt the user to enter the file path and display the chart.\n",
    "file_name=input(\"Enter csv file name to read:-\")\n",
    "df=pd.read_csv(file_name)\n",
    "df.plot.bar(x=\"Product\",y=\"Revenue\")"
   ]
  },
  {
   "cell_type": "code",
   "execution_count": 26,
   "metadata": {},
   "outputs": [
    {
     "data": {
      "text/html": [
       "<div>\n",
       "<style scoped>\n",
       "    .dataframe tbody tr th:only-of-type {\n",
       "        vertical-align: middle;\n",
       "    }\n",
       "\n",
       "    .dataframe tbody tr th {\n",
       "        vertical-align: top;\n",
       "    }\n",
       "\n",
       "    .dataframe thead th {\n",
       "        text-align: right;\n",
       "    }\n",
       "</style>\n",
       "<table border=\"1\" class=\"dataframe\">\n",
       "  <thead>\n",
       "    <tr style=\"text-align: right;\">\n",
       "      <th></th>\n",
       "      <th>Value</th>\n",
       "    </tr>\n",
       "    <tr>\n",
       "      <th>Statistic</th>\n",
       "      <th></th>\n",
       "    </tr>\n",
       "  </thead>\n",
       "  <tbody>\n",
       "    <tr>\n",
       "      <th>Mean</th>\n",
       "      <td>83.5</td>\n",
       "    </tr>\n",
       "    <tr>\n",
       "      <th>Median</th>\n",
       "      <td>85.0</td>\n",
       "    </tr>\n",
       "    <tr>\n",
       "      <th>Mode</th>\n",
       "      <td>0    85\n",
       "Name: Score, dtype: int64</td>\n",
       "    </tr>\n",
       "  </tbody>\n",
       "</table>\n",
       "</div>"
      ],
      "text/plain": [
       "                                       Value\n",
       "Statistic                                   \n",
       "Mean                                    83.5\n",
       "Median                                  85.0\n",
       "Mode       0    85\n",
       "Name: Score, dtype: int64"
      ]
     },
     "execution_count": 26,
     "metadata": {},
     "output_type": "execute_result"
    }
   ],
   "source": [
    "# You are given a CSV file containing student data that includes the student ID and their test score. Write \n",
    "# a Python program that reads the CSV file, calculates the mean, median, and mode of the test scores, and \n",
    "# displays the results in a table.\n",
    "file_name=input(\"Enter csv file name:-\")\n",
    "df=pd.read_csv(file_name)\n",
    "a=df[\"Score\"].mean()\n",
    "b=df[\"Score\"].median()\n",
    "c=df[\"Score\"].mode()\n",
    "sub_df=pd.DataFrame({\n",
    "    \"Statistic\":[\"Mean\",\"Median\",\"Mode\"],\n",
    "    \"Value\":[a,b,c]\n",
    "})\n",
    "sub_df.set_index(\"Statistic\")"
   ]
  },
  {
   "cell_type": "code",
   "execution_count": null,
   "metadata": {},
   "outputs": [],
   "source": []
  }
 ],
 "metadata": {
  "kernelspec": {
   "display_name": "Python 3",
   "language": "python",
   "name": "python3"
  },
  "language_info": {
   "codemirror_mode": {
    "name": "ipython",
    "version": 3
   },
   "file_extension": ".py",
   "mimetype": "text/x-python",
   "name": "python",
   "nbconvert_exporter": "python",
   "pygments_lexer": "ipython3",
   "version": "3.11.8"
  }
 },
 "nbformat": 4,
 "nbformat_minor": 2
}
